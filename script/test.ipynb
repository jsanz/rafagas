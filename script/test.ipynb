{
 "cells": [
  {
   "cell_type": "code",
   "execution_count": 1,
   "id": "87d2f05f-348d-4261-a506-bf6d54db0a04",
   "metadata": {},
   "outputs": [],
   "source": [
    "from pathlib import Path\n",
    "import frontmatter\n",
    "import re\n",
    "from io import BytesIO"
   ]
  },
  {
   "cell_type": "code",
   "execution_count": 172,
   "id": "65dd1a64-7836-4d6c-9aad-72362f5138e6",
   "metadata": {},
   "outputs": [],
   "source": [
    "test_file = Path('/home/j/src/rafagas/_posts/2015/2015-08-21-171.md')\n"
   ]
  },
  {
   "cell_type": "code",
   "execution_count": 173,
   "id": "732a5aa9-695f-4fe4-b184-6b7b5e116302",
   "metadata": {},
   "outputs": [
    {
     "name": "stdout",
     "output_type": "stream",
     "text": [
      "---\n",
      "date: 2015-08-21 23:59\n",
      "layout: post\n",
      "tags: contest, card game, fantastic, clouds, NYC, tables, population, infography,\n",
      "  georef, cooperatives, fines, energy\n",
      "title: 'Nº171: contest, card game, fantastic, clouds, NYC, tables, population, infography,\n",
      "  georef, cooperatives, fines, energy'\n",
      "---\n",
      "\n",
      "* Omnidirectional video camera with 9Mpx and automatic people count\n",
      "  http://www.diginfo.tv/v/pd-1072-en.php\n",
      "\n",
      "* USA average raining with an isometric view for clarity\n",
      "  http://metricmaps.org/2015/07/27/avg-daily-precip-by-us-county/\n",
      "\n",
      "* CartoDB maps contest, open until August 31, with prizes\n",
      "  http://go.cartodb.com/insight-competition\n",
      "\n",
      "* A card game to learn USA geography\n",
      "  http://ubique.americangeo.org/non-profit-spotlight/geoplunge-by-learningplunge-inc-a-thrilling-way-to-learn-u-s-geography/\n",
      "\n",
      "* \"Picture perfect days\": map of the USE according to the number of days with good weather conditions\n",
      "http://us-climate.blogspot.com.es/2015/03/picture-perfect-weather-days.html\n",
      "\n",
      "* 2012 cloud frequency map measured with the MODIS satellite\n",
      "  https://cloudfrequency.appspot.com/\n",
      "\n",
      "* Hand drawn anonymous map with New York at the centre of the World and fitting the whole country\n",
      "  http://www.davidrumsey.com/luna/servlet/detail/RUMSEY~8~1~274078~90047809:New-York-City?sort=Pub_List_No_InitialSort%2CPub_Date%2CPub_List_No%2CSeries_No&qvq=w4s:/where/New+York+City;sort:Pub_List_No_InitialSort%2CPub_Date%2CPub_List_No%2CSeries_No;lc:RUMSEY~8~1&mi=24&trs=31#\n",
      "\n",
      "* Tabula, a tool to free tables locked on PDF files\n",
      "  http://tabula.technology/\n",
      "\n",
      "* Detailed explanation of how the Europe population change was mapped\n",
      "  http://blog.webkid.io/how-we-created-a-map-with-100k-interactive-areas/\n",
      "\n",
      "* Infography to overview the different career options for GIS students\n",
      "  http://gis.usc.edu/msp-resources/infographics/career-paths-2/\n",
      "\n",
      "* Using an old map as a basemap for a temporal visualization project\n",
      "  https://movingbodiesmovingculture.wordpress.com/2015/07/28/historical-basemaps/\n",
      "\n",
      "* Slides and report: \"Mapping agro-food consumption groups in the city of Barcelona\"\n",
      "  http://ict4rd.net/mapping-agro-food-consumption-groups-in-the-city-of-barcelona/\n",
      "\n",
      "* Map of the 177.974 fines reported in Madrid at February 2015, summing 17.525.900€\n",
      "  https://team.cartodb.com/u/piensaenpixel/viz/72a358fe-0894-11e5-9e8a-0e018d66dc29/public_map\n",
      "\n",
      "* Interactive map of the global connections between geopolitics, energy and natural resources\n",
      "  http://worldpowermap.com/\n",
      "['* Omnidirectional video camera with 9Mpx and automatic people count', '  http://www.diginfo.tv/v/pd-1072-en.php', '']\n",
      "[' USA average raining with an isometric view for clarity', '  http://metricmaps.org/2015/07/27/avg-daily-precip-by-us-county/', '']\n",
      "[' CartoDB maps contest, open until August 31, with prizes', '  http://go.cartodb.com/insight-competition', '']\n",
      "[' A card game to learn USA geography', '  http://ubique.americangeo.org/non-profit-spotlight/geoplunge-by-learningplunge-inc-a-thrilling-way-to-learn-u-s-geography/', '']\n",
      "[' \"Picture perfect days\": map of the USE according to the number of days with good weather conditions', 'http://us-climate.blogspot.com.es/2015/03/picture-perfect-weather-days.html', '']\n",
      "[' 2012 cloud frequency map measured with the MODIS satellite', '  https://cloudfrequency.appspot.com/', '']\n",
      "[' Hand drawn anonymous map with New York at the centre of the World and fitting the whole country', '  http://www.davidrumsey.com/luna/servlet/detail/RUMSEY~8~1~274078~90047809:New-York-City?sort=Pub_List_No_InitialSort%2CPub_Date%2CPub_List_No%2CSeries_No&qvq=w4s:/where/New+York+City;sort:Pub_List_No_InitialSort%2CPub_Date%2CPub_List_No%2CSeries_No;lc:RUMSEY~8~1&mi=24&trs=31#', '']\n",
      "[' Tabula, a tool to free tables locked on PDF files', '  http://tabula.technology/', '']\n",
      "[' Detailed explanation of how the Europe population change was mapped', '  http://blog.webkid.io/how-we-created-a-map-with-100k-interactive-areas/', '']\n",
      "[' Infography to overview the different career options for GIS students', '  http://gis.usc.edu/msp-resources/infographics/career-paths-2/', '']\n",
      "[' Using an old map as a basemap for a temporal visualization project', '  https://movingbodiesmovingculture.wordpress.com/2015/07/28/historical-basemaps/', '']\n",
      "[' Slides and report: \"Mapping agro-food consumption groups in the city of Barcelona\"', '  http://ict4rd.net/mapping-agro-food-consumption-groups-in-the-city-of-barcelona/', '']\n",
      "[' Map of the 177.974 fines reported in Madrid at February 2015, summing 17.525.900€', '  https://team.cartodb.com/u/piensaenpixel/viz/72a358fe-0894-11e5-9e8a-0e018d66dc29/public_map', '']\n",
      "pop from empty list\n"
     ]
    }
   ],
   "source": [
    "def printPost(post):\n",
    "    f = BytesIO()\n",
    "    frontmatter.dump(post, f)\n",
    "    print(f.getvalue().decode('utf-8'))\n",
    "\n",
    "    \n",
    "def process(post):\n",
    "    # Simple keys\n",
    "    post['layout'] = 'rafaga'\n",
    "    del(post['tags'])\n",
    "    \n",
    "    # Title\n",
    "    title_match = re.search('^Nº(?:\\ )?([0-9]{1,4}):(?:\\ )?(.*)$',post['title'])\n",
    "    if title_match:\n",
    "        rid = title_match.group(1)\n",
    "        post['rid'] = rid\n",
    "        \n",
    "        keywords = list(map(lambda x: x.strip(),title_match.group(2).split(',')))\n",
    "        del(post['title'])\n",
    "    else:\n",
    "        raise Exception('\\n#####\\nNo match for title regex\\n#####')\n",
    "    \n",
    "    # Content\n",
    "    content = post.content\n",
    "    items = filter(lambda x: x!='', content.split('\\n*'))\n",
    "    post.content = ''\n",
    "    \n",
    "    rafagas = []\n",
    "    \n",
    "    for item in items:\n",
    "        item_split = re.split('\\n',item)\n",
    "        desc_via = re.split(' via @',item_split[0].strip('.#!* '))\n",
    "        print(item_split)\n",
    "        rafaga = {\n",
    "            'link': item_split[1].strip(),\n",
    "            'desc': desc_via[0],\n",
    "            'keyw': keywords.pop(0)\n",
    "        }\n",
    "        \n",
    "        if len(desc_via)>1:\n",
    "            rafaga['via'] = '@' + desc_via[1]\n",
    "        \n",
    "        rafagas.append(rafaga)\n",
    "    post['rafagas'] = rafagas\n",
    "    \n",
    "    return post\n",
    "    \n",
    "with test_file.open() as reader:\n",
    "    post = frontmatter.load(reader)\n",
    "    \n",
    "    printPost(post)\n",
    "    try:\n",
    "        items = process(post)\n",
    "        printPost(post)\n",
    "    except Exception as err:\n",
    "        print(err)"
   ]
  },
  {
   "cell_type": "code",
   "execution_count": 157,
   "id": "ea92598d-359f-4c52-95b1-e2e4c96ad89d",
   "metadata": {},
   "outputs": [],
   "source": [
    "tests = ['Interactive PostGIS queries viewer via @bolosig','Any other description without a via word']"
   ]
  },
  {
   "cell_type": "code",
   "execution_count": 136,
   "id": "0d8594b6-13ba-462b-93af-2c645d8d0259",
   "metadata": {},
   "outputs": [
    {
     "name": "stdout",
     "output_type": "stream",
     "text": [
      "['Interactive PostGIS queries viewer', 'bolosig']\n",
      "['Any other description without a via word']\n"
     ]
    }
   ],
   "source": [
    "for test in tests:\n",
    "    search = re.split(' via @', test)\n",
    "    print(search)"
   ]
  },
  {
   "cell_type": "code",
   "execution_count": null,
   "id": "4250b1d9-af96-4ce3-98ee-5a8031163c38",
   "metadata": {},
   "outputs": [],
   "source": []
  }
 ],
 "metadata": {
  "kernelspec": {
   "display_name": "Python 3",
   "language": "python",
   "name": "python3"
  },
  "language_info": {
   "codemirror_mode": {
    "name": "ipython",
    "version": 3
   },
   "file_extension": ".py",
   "mimetype": "text/x-python",
   "name": "python",
   "nbconvert_exporter": "python",
   "pygments_lexer": "ipython3",
   "version": "3.8.5"
  }
 },
 "nbformat": 4,
 "nbformat_minor": 5
}
